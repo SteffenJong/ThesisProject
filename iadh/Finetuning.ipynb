{
 "cells": [
  {
   "cell_type": "code",
   "execution_count": 91,
   "id": "5a68065d",
   "metadata": {},
   "outputs": [
    {
     "name": "stdout",
     "output_type": "stream",
     "text": [
      "2.5.1+cu124\n"
     ]
    }
   ],
   "source": [
    "import os\n",
    "os.environ[\"CUDA_DEVICE_ORDER\"]=\"PCI_BUS_ID\"\n",
    "os.environ[\"CUDA_VISIBLE_DEVICES\"]=\"1\"\n",
    "import pandas as pd\n",
    "# import seaborn as sns\n",
    "# sns.set_theme()\n",
    "# import matplotlib.pyplot as plt\n",
    "from pathlib import Path\n",
    "from sklearn.metrics import roc_curve, RocCurveDisplay\n",
    "from sklearn.model_selection import train_test_split\n",
    "import numpy as np\n",
    "import torch\n",
    "from torch import nn\n",
    "import torch.optim.adam\n",
    "from torch.utils.data import TensorDataset, DataLoader\n",
    "print(torch.__version__)"
   ]
  },
  {
   "cell_type": "code",
   "execution_count": 12,
   "id": "2021a4b6",
   "metadata": {},
   "outputs": [
    {
     "name": "stdout",
     "output_type": "stream",
     "text": [
      "current device cuda:0\n"
     ]
    }
   ],
   "source": [
    "if torch.cuda.is_available():\n",
    "    device = \"cuda:0\"\n",
    "else: device = \"cpu\"\n",
    "print(f\"current device {device}\")"
   ]
  },
  {
   "cell_type": "code",
   "execution_count": 69,
   "id": "2eb22778",
   "metadata": {},
   "outputs": [],
   "source": [
    "embeddings = Path(\"iadh_out/ath_bol_aar/emebddings_blocks_24_mlp_l3_sttras_30_A0.tsv\")\n",
    "df = pd.read_csv(embeddings, sep=\"\\t\", header=0, index_col=0)\n",
    "df.em_x = df.em_x.apply(eval)\n",
    "df.em_y = df.em_y.apply(eval)"
   ]
  },
  {
   "cell_type": "code",
   "execution_count": 193,
   "id": "16eb41a2",
   "metadata": {},
   "outputs": [],
   "source": [
    "class NeuralNetwork(nn.Module):\n",
    "    def __init__(self):\n",
    "        super().__init__()\n",
    "        self.flatten = nn.Flatten()\n",
    "        self.linear_relu_stack = nn.Sequential(\n",
    "            nn.Linear(3840, 512),\n",
    "            nn.ReLU(),\n",
    "            nn.BatchNorm1d(512),\n",
    "            nn.Dropout1d(0.3),\n",
    "\n",
    "            nn.Linear(512, 128),\n",
    "            nn.ReLU(),\n",
    "            nn.BatchNorm1d(128),\n",
    "            nn.Dropout1d(0.3),\n",
    "\n",
    "            nn.Linear(128, 32),\n",
    "            nn.ReLU(),\n",
    "            nn.BatchNorm1d(32),\n",
    "            nn.Linear(32, 1),\n",
    "            nn.Sigmoid()\n",
    "        )\n",
    "\n",
    "    def forward(self, x):\n",
    "        x = self.flatten(x)\n",
    "        logits = self.linear_relu_stack(x)\n",
    "        return logits"
   ]
  },
  {
   "cell_type": "code",
   "execution_count": 196,
   "id": "5384a6ce",
   "metadata": {},
   "outputs": [
    {
     "name": "stdout",
     "output_type": "stream",
     "text": [
      "NeuralNetwork(\n",
      "  (flatten): Flatten(start_dim=1, end_dim=-1)\n",
      "  (linear_relu_stack): Sequential(\n",
      "    (0): Linear(in_features=3840, out_features=512, bias=True)\n",
      "    (1): ReLU()\n",
      "    (2): BatchNorm1d(512, eps=1e-05, momentum=0.1, affine=True, track_running_stats=True)\n",
      "    (3): Dropout1d(p=0.3, inplace=False)\n",
      "    (4): Linear(in_features=512, out_features=128, bias=True)\n",
      "    (5): ReLU()\n",
      "    (6): BatchNorm1d(128, eps=1e-05, momentum=0.1, affine=True, track_running_stats=True)\n",
      "    (7): Dropout1d(p=0.3, inplace=False)\n",
      "    (8): Linear(in_features=128, out_features=32, bias=True)\n",
      "    (9): ReLU()\n",
      "    (10): BatchNorm1d(32, eps=1e-05, momentum=0.1, affine=True, track_running_stats=True)\n",
      "    (11): Linear(in_features=32, out_features=1, bias=True)\n",
      "    (12): Sigmoid()\n",
      "  )\n",
      ")\n"
     ]
    }
   ],
   "source": [
    "model = NeuralNetwork().to(device)\n",
    "print(model)"
   ]
  },
  {
   "cell_type": "code",
   "execution_count": 136,
   "id": "7b06d90f",
   "metadata": {},
   "outputs": [],
   "source": [
    "samples = df.em_x + df.em_y\n",
    "y = df.similar.astype(int).values\n",
    "x = np.array(samples.values.tolist())\n",
    "\n",
    "x, x_val, y, y_val = train_test_split(x, y, test_size=0.30, random_state=42)\n",
    "x_train, x_test, y_train, y_test = train_test_split(x, y, test_size=0.20, random_state=42)\n",
    "\n",
    "train_dataloader = DataLoader(\n",
    "    TensorDataset(\n",
    "        torch.tensor(x_train, dtype=torch.float32), \n",
    "        torch.tensor(y_train, dtype=torch.float32).unsqueeze(1)\n",
    "        ), \n",
    "    batch_size=16\n",
    "    )\n",
    "test_dataloader = DataLoader(\n",
    "    TensorDataset(\n",
    "        torch.tensor(x_test, dtype=torch.float32), \n",
    "        torch.tensor(y_test, dtype=torch.float32).unsqueeze(1)\n",
    "        ), \n",
    "    batch_size=16\n",
    "    )\n"
   ]
  },
  {
   "cell_type": "code",
   "execution_count": 179,
   "id": "cad54181",
   "metadata": {},
   "outputs": [],
   "source": [
    "def train(dataloader, model, loss_fn, optimizer):\n",
    "    size = len(dataloader.dataset)\n",
    "    model.train()\n",
    "    for batch, (X, y) in enumerate(dataloader):\n",
    "        # print(batch)\n",
    "        X, y = X.to(device), y.to(device)\n",
    "\n",
    "        # Compute prediction error\n",
    "        pred = model(X)\n",
    "        loss = loss_fn(pred.round(), y)\n",
    "\n",
    "        # Backpropagation\n",
    "        loss.backward()\n",
    "        optimizer.step()\n",
    "        optimizer.zero_grad()\n",
    "\n",
    "        if batch % 10 == 0:\n",
    "            loss, current = loss.item(), (batch + 1) * len(X)\n",
    "            print(f\"loss: {loss:>7f}  [{current:>5d}/{size:>5d}]\")\n"
   ]
  },
  {
   "cell_type": "code",
   "execution_count": 182,
   "id": "d39c52a7",
   "metadata": {},
   "outputs": [],
   "source": [
    "def test(dataloader, model, loss_fn):\n",
    "    size = len(dataloader.dataset)\n",
    "    num_batches = len(dataloader)\n",
    "    model.eval()\n",
    "    test_loss, correct = 0, 0\n",
    "    with torch.no_grad():\n",
    "        for X, y in dataloader:\n",
    "            X, y = X.to(device), y.to(device)\n",
    "            pred = model(X)\n",
    "            test_loss += loss_fn(pred, y).item()\n",
    "\n",
    "            # pred is now a float\n",
    "            # should be converted to int\n",
    "            # then update all the shit\n",
    "\n",
    "            correct += (pred.round() == y).type(torch.float).sum().item()\n",
    "            # print((pred == y).shape)\n",
    "            # print(pred.shape)\n",
    "    test_loss /= num_batches\n",
    "    correct /= size\n",
    "    print(f\"Test Error: \\n Accuracy: {(100*correct):>0.1f}%, Avg loss: {test_loss:>8f} \\n\")"
   ]
  },
  {
   "cell_type": "code",
   "execution_count": 203,
   "id": "eb8ac112",
   "metadata": {},
   "outputs": [
    {
     "name": "stdout",
     "output_type": "stream",
     "text": [
      "Epoch 1\n",
      "-------------------------------\n",
      "loss: 37.500000  [   16/ 1241]\n",
      "loss: 37.500000  [  176/ 1241]\n",
      "loss: 43.750000  [  336/ 1241]\n",
      "loss: 43.750000  [  496/ 1241]\n",
      "loss: 50.000000  [  656/ 1241]\n",
      "loss: 68.750000  [  816/ 1241]\n",
      "loss: 56.250000  [  976/ 1241]\n",
      "loss: 43.750000  [ 1136/ 1241]\n",
      "Test Error: \n",
      " Accuracy: 49.2%, Avg loss: 0.696729 \n",
      "\n",
      "Epoch 2\n",
      "-------------------------------\n",
      "loss: 31.250000  [   16/ 1241]\n",
      "loss: 37.500000  [  176/ 1241]\n",
      "loss: 43.750000  [  336/ 1241]\n",
      "loss: 37.500000  [  496/ 1241]\n",
      "loss: 50.000000  [  656/ 1241]\n",
      "loss: 81.250000  [  816/ 1241]\n",
      "loss: 56.250000  [  976/ 1241]\n",
      "loss: 43.750000  [ 1136/ 1241]\n",
      "Test Error: \n",
      " Accuracy: 49.2%, Avg loss: 0.691493 \n",
      "\n",
      "Epoch 3\n",
      "-------------------------------\n",
      "loss: 37.500000  [   16/ 1241]\n",
      "loss: 37.500000  [  176/ 1241]\n",
      "loss: 43.750000  [  336/ 1241]\n",
      "loss: 37.500000  [  496/ 1241]\n",
      "loss: 43.750000  [  656/ 1241]\n",
      "loss: 68.750000  [  816/ 1241]\n",
      "loss: 56.250000  [  976/ 1241]\n",
      "loss: 43.750000  [ 1136/ 1241]\n",
      "Test Error: \n",
      " Accuracy: 49.2%, Avg loss: 0.691387 \n",
      "\n",
      "Epoch 4\n",
      "-------------------------------\n",
      "loss: 31.250000  [   16/ 1241]\n",
      "loss: 37.500000  [  176/ 1241]\n",
      "loss: 37.500000  [  336/ 1241]\n",
      "loss: 43.750000  [  496/ 1241]\n",
      "loss: 43.750000  [  656/ 1241]\n",
      "loss: 75.000000  [  816/ 1241]\n",
      "loss: 56.250000  [  976/ 1241]\n",
      "loss: 43.750000  [ 1136/ 1241]\n",
      "Test Error: \n",
      " Accuracy: 49.2%, Avg loss: 0.691343 \n",
      "\n",
      "Epoch 5\n",
      "-------------------------------\n",
      "loss: 37.500000  [   16/ 1241]\n",
      "loss: 37.500000  [  176/ 1241]\n",
      "loss: 43.750000  [  336/ 1241]\n",
      "loss: 43.750000  [  496/ 1241]\n",
      "loss: 50.000000  [  656/ 1241]\n",
      "loss: 75.000000  [  816/ 1241]\n",
      "loss: 56.250000  [  976/ 1241]\n",
      "loss: 37.500000  [ 1136/ 1241]\n",
      "Test Error: \n",
      " Accuracy: 49.2%, Avg loss: 0.691280 \n",
      "\n",
      "Epoch 6\n",
      "-------------------------------\n",
      "loss: 31.250000  [   16/ 1241]\n",
      "loss: 37.500000  [  176/ 1241]\n",
      "loss: 43.750000  [  336/ 1241]\n",
      "loss: 37.500000  [  496/ 1241]\n",
      "loss: 43.750000  [  656/ 1241]\n",
      "loss: 68.750000  [  816/ 1241]\n",
      "loss: 56.250000  [  976/ 1241]\n",
      "loss: 37.500000  [ 1136/ 1241]\n",
      "Test Error: \n",
      " Accuracy: 49.2%, Avg loss: 0.691185 \n",
      "\n",
      "Epoch 7\n",
      "-------------------------------\n",
      "loss: 37.500000  [   16/ 1241]\n",
      "loss: 37.500000  [  176/ 1241]\n",
      "loss: 37.500000  [  336/ 1241]\n",
      "loss: 43.750000  [  496/ 1241]\n",
      "loss: 50.000000  [  656/ 1241]\n",
      "loss: 75.000000  [  816/ 1241]\n",
      "loss: 56.250000  [  976/ 1241]\n",
      "loss: 37.500000  [ 1136/ 1241]\n",
      "Test Error: \n",
      " Accuracy: 49.2%, Avg loss: 0.691295 \n",
      "\n",
      "Epoch 8\n",
      "-------------------------------\n",
      "loss: 37.500000  [   16/ 1241]\n",
      "loss: 37.500000  [  176/ 1241]\n",
      "loss: 37.500000  [  336/ 1241]\n",
      "loss: 43.750000  [  496/ 1241]\n",
      "loss: 50.000000  [  656/ 1241]\n",
      "loss: 75.000000  [  816/ 1241]\n",
      "loss: 56.250000  [  976/ 1241]\n",
      "loss: 43.750000  [ 1136/ 1241]\n",
      "Test Error: \n",
      " Accuracy: 49.2%, Avg loss: 0.691172 \n",
      "\n",
      "Epoch 9\n",
      "-------------------------------\n",
      "loss: 37.500000  [   16/ 1241]\n",
      "loss: 37.500000  [  176/ 1241]\n",
      "loss: 37.500000  [  336/ 1241]\n",
      "loss: 37.500000  [  496/ 1241]\n",
      "loss: 50.000000  [  656/ 1241]\n",
      "loss: 68.750000  [  816/ 1241]\n",
      "loss: 56.250000  [  976/ 1241]\n",
      "loss: 43.750000  [ 1136/ 1241]\n",
      "Test Error: \n",
      " Accuracy: 49.2%, Avg loss: 0.691334 \n",
      "\n",
      "Epoch 10\n",
      "-------------------------------\n",
      "loss: 31.250000  [   16/ 1241]\n",
      "loss: 37.500000  [  176/ 1241]\n",
      "loss: 37.500000  [  336/ 1241]\n",
      "loss: 37.500000  [  496/ 1241]\n",
      "loss: 43.750000  [  656/ 1241]\n",
      "loss: 81.250000  [  816/ 1241]\n",
      "loss: 56.250000  [  976/ 1241]\n",
      "loss: 37.500000  [ 1136/ 1241]\n",
      "Test Error: \n",
      " Accuracy: 49.2%, Avg loss: 0.691308 \n",
      "\n",
      "Done!\n"
     ]
    }
   ],
   "source": [
    "model = \"\"\n",
    "model = NeuralNetwork().to(device)\n",
    "epochs = 10\n",
    "loss_fn = nn.BCELoss()\n",
    "optimizer = torch.optim.Adam(model.parameters(), )\n",
    "for t in range(epochs):\n",
    "    print(f\"Epoch {t+1}\\n-------------------------------\")\n",
    "    train(train_dataloader, model, loss_fn, optimizer)\n",
    "    test(test_dataloader, model, loss_fn)\n",
    "print(\"Done!\")"
   ]
  },
  {
   "cell_type": "code",
   "execution_count": 3,
   "id": "2075b619",
   "metadata": {},
   "outputs": [],
   "source": [
    "def calc_cosine(r: pd.Series):\n",
    "    em_x = r[\"em_x\"]\n",
    "    # print(em_x)\n",
    "    em_y = r[\"em_y\"]\n",
    "    # m = max(len(em_x),len(em_y) )\n",
    "    # em_x = np.concat((em_x, np.zeros(m-len(em_x))))\n",
    "    # em_y = np.concat((em_y, np.zeros(m-len(em_y))))\n",
    "    return np.dot(em_x, em_y)/ (np.linalg.norm(em_x) * np.linalg.norm(em_y))\n",
    "df[\"cosine_sim\"] = df.apply(calc_cosine, axis=1)"
   ]
  },
  {
   "cell_type": "code",
   "execution_count": 4,
   "id": "bab7288d",
   "metadata": {},
   "outputs": [
    {
     "data": {
      "text/plain": [
       "<sklearn.metrics._plot.roc_curve.RocCurveDisplay at 0x7f38c9973810>"
      ]
     },
     "execution_count": 4,
     "metadata": {},
     "output_type": "execute_result"
    },
    {
     "data": {
      "image/png": "[encoded data removed]",
      "text/plain": [
       "<Figure size 640x480 with 1 Axes>"
      ]
     },
     "metadata": {},
     "output_type": "display_data"
    }
   ],
   "source": [
    "RocCurveDisplay.from_predictions(df[\"similar\"].tolist(), df[\"cosine_sim\"].tolist(), pos_label=True)"
   ]
  }
 ],
 "metadata": {
  "kernelspec": {
   "display_name": "evo2",
   "language": "python",
   "name": "python3"
  },
  "language_info": {
   "codemirror_mode": {
    "name": "ipython",
    "version": 3
   },
   "file_extension": ".py",
   "mimetype": "text/x-python",
   "name": "python",
   "nbconvert_exporter": "python",
   "pygments_lexer": "ipython3",
   "version": "3.11.11"
  }
 },
 "nbformat": 4,
 "nbformat_minor": 5
}
