{
 "cells": [
  {
   "cell_type": "code",
   "execution_count": 1,
   "metadata": {},
   "outputs": [],
   "source": [
    "import pandas as pd\n",
    "import seaborn as sns\n",
    "sns.set_theme()\n",
    "import matplotlib.pyplot as plt\n",
    "from pathlib import Path"
   ]
  },
  {
   "cell_type": "code",
   "execution_count": 5,
   "metadata": {},
   "outputs": [],
   "source": [
    "train_test = Path(\"iadh_out/ath_bol_aar/train_test.tsv\")\n",
    "df = pd.read_csv(train_test, sep=\"\\t\", header=0, index_col=0)\n"
   ]
  },
  {
   "cell_type": "code",
   "execution_count": 8,
   "metadata": {},
   "outputs": [
    {
     "name": "stdout",
     "output_type": "stream",
     "text": [
      "(710, 6)\n"
     ]
    },
    {
     "data": {
      "text/html": [
       "<div>\n",
       "<style scoped>\n",
       "    .dataframe tbody tr th:only-of-type {\n",
       "        vertical-align: middle;\n",
       "    }\n",
       "\n",
       "    .dataframe tbody tr th {\n",
       "        vertical-align: top;\n",
       "    }\n",
       "\n",
       "    .dataframe thead th {\n",
       "        text-align: right;\n",
       "    }\n",
       "</style>\n",
       "<table border=\"1\" class=\"dataframe\">\n",
       "  <thead>\n",
       "    <tr style=\"text-align: right;\">\n",
       "      <th></th>\n",
       "      <th>genome_x</th>\n",
       "      <th>chr_x</th>\n",
       "      <th>genome_y</th>\n",
       "      <th>chr_y</th>\n",
       "      <th>seq_x</th>\n",
       "      <th>seq_y</th>\n",
       "    </tr>\n",
       "  </thead>\n",
       "  <tbody>\n",
       "    <tr>\n",
       "      <th>4052</th>\n",
       "      <td>aar</td>\n",
       "      <td>LG-7</td>\n",
       "      <td>ath</td>\n",
       "      <td>Chr1</td>\n",
       "      <td>TACTCGTCAATATCCTTTACAGCATCCTGTAAAGCACGACACCAAC...</td>\n",
       "      <td>TACTTTGCATCTCTCTTCTCATCATCATCAATATCCTTTATAGCAT...</td>\n",
       "    </tr>\n",
       "    <tr>\n",
       "      <th>4070</th>\n",
       "      <td>aar</td>\n",
       "      <td>sc-179</td>\n",
       "      <td>ath</td>\n",
       "      <td>Chr1</td>\n",
       "      <td>TAGTTTCGGGACATGGTTGGTTCAAGCAGCGGAGGCGCAGTCGCAA...</td>\n",
       "      <td>TGGCGTGGTCGTCGGAAACGCCGTCGTATTGCGGCTGGAATGAGCG...</td>\n",
       "    </tr>\n",
       "    <tr>\n",
       "      <th>4072</th>\n",
       "      <td>bol</td>\n",
       "      <td>C8</td>\n",
       "      <td>ath</td>\n",
       "      <td>Chr1</td>\n",
       "      <td>CAGGCGCTGTTACTCCTCCGTTTCTTACGGACGTGGTTAGGGTTAT...</td>\n",
       "      <td>CAGGCACTATTACTCCTTCGTTTCTTACGGACATGGTTTGGTTCGT...</td>\n",
       "    </tr>\n",
       "    <tr>\n",
       "      <th>4083</th>\n",
       "      <td>bol</td>\n",
       "      <td>C9</td>\n",
       "      <td>ath</td>\n",
       "      <td>Chr1</td>\n",
       "      <td>TGATATCGTGGCTGATGACTATCAAGGCGGTGCTAATATCTACCGG...</td>\n",
       "      <td>TGCAGATTGAGATTGACCATCTTAACAATGAGCATCTTGAATCTGT...</td>\n",
       "    </tr>\n",
       "    <tr>\n",
       "      <th>4088</th>\n",
       "      <td>aar</td>\n",
       "      <td>sc-136</td>\n",
       "      <td>ath</td>\n",
       "      <td>Chr1</td>\n",
       "      <td>TGGGAGATGAAGATAAATTGCTACCAATAGCAAATGTAGGAAGAAT...</td>\n",
       "      <td>TGGGGGCCAAAAGCAAAAGTTCGAGTACGAGATTTTTTATGTTTTA...</td>\n",
       "    </tr>\n",
       "  </tbody>\n",
       "</table>\n",
       "</div>"
      ],
      "text/plain": [
       "     genome_x   chr_x genome_y chr_y  \\\n",
       "4052      aar    LG-7      ath  Chr1   \n",
       "4070      aar  sc-179      ath  Chr1   \n",
       "4072      bol      C8      ath  Chr1   \n",
       "4083      bol      C9      ath  Chr1   \n",
       "4088      aar  sc-136      ath  Chr1   \n",
       "\n",
       "                                                  seq_x  \\\n",
       "4052  TACTCGTCAATATCCTTTACAGCATCCTGTAAAGCACGACACCAAC...   \n",
       "4070  TAGTTTCGGGACATGGTTGGTTCAAGCAGCGGAGGCGCAGTCGCAA...   \n",
       "4072  CAGGCGCTGTTACTCCTCCGTTTCTTACGGACGTGGTTAGGGTTAT...   \n",
       "4083  TGATATCGTGGCTGATGACTATCAAGGCGGTGCTAATATCTACCGG...   \n",
       "4088  TGGGAGATGAAGATAAATTGCTACCAATAGCAAATGTAGGAAGAAT...   \n",
       "\n",
       "                                                  seq_y  \n",
       "4052  TACTTTGCATCTCTCTTCTCATCATCATCAATATCCTTTATAGCAT...  \n",
       "4070  TGGCGTGGTCGTCGGAAACGCCGTCGTATTGCGGCTGGAATGAGCG...  \n",
       "4072  CAGGCACTATTACTCCTTCGTTTCTTACGGACATGGTTTGGTTCGT...  \n",
       "4083  TGCAGATTGAGATTGACCATCTTAACAATGAGCATCTTGAATCTGT...  \n",
       "4088  TGGGGGCCAAAAGCAAAAGTTCGAGTACGAGATTTTTTATGTTTTA...  "
      ]
     },
     "execution_count": 8,
     "metadata": {},
     "output_type": "execute_result"
    }
   ],
   "source": [
    "print(df.shape)\n",
    "df.head()"
   ]
  }
 ],
 "metadata": {
  "kernelspec": {
   "display_name": "iadh",
   "language": "python",
   "name": "python3"
  },
  "language_info": {
   "codemirror_mode": {
    "name": "ipython",
    "version": 3
   },
   "file_extension": ".py",
   "mimetype": "text/x-python",
   "name": "python",
   "nbconvert_exporter": "python",
   "pygments_lexer": "ipython3",
   "version": "3.13.2"
  }
 },
 "nbformat": 4,
 "nbformat_minor": 2
}
