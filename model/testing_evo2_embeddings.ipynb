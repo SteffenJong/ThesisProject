{
 "cells": [
  {
   "cell_type": "code",
   "execution_count": 1,
   "id": "8c864039",
   "metadata": {},
   "outputs": [
    {
     "name": "stdout",
     "output_type": "stream",
     "text": [
      "And there was light!\n"
     ]
    }
   ],
   "source": [
    "import os\n",
    "os.environ[\"CUDA_DEVICE_ORDER\"]=\"PCI_BUS_ID\"\n",
    "os.environ[\"CUDA_VISIBLE_DEVICES\"]=\"1\"\n",
    "import torch\n",
    "print(\"And there was light!\")\n",
    "import numpy as np\n",
    "from sklearn.metrics.pairwise import cosine_similarity\n",
    "from sklearn.decomposition import PCA\n",
    "import time\n",
    "import h5py\n",
    "from tqdm import tqdm\n",
    "from sys import getsizeof\n",
    "import gzip"
   ]
  },
  {
   "cell_type": "code",
   "execution_count": 3,
   "id": "3fa99192",
   "metadata": {},
   "outputs": [
    {
     "name": "stdout",
     "output_type": "stream",
     "text": [
      "Cuda available:  True\n",
      "Cuda devices:  1\n",
      "Current cuda device:  0\n",
      "Current cuda device name:  NVIDIA L40S\n",
      "_CudaDeviceProperties(name='NVIDIA L40S', major=8, minor=9, total_memory=45494MB, multi_processor_count=142, uuid=671aadf9-2757-b570-e349-dbf8f06407ba, L2_cache_size=96MB)\n"
     ]
    }
   ],
   "source": [
    "os.environ[\"CUDA_DEVICE_ORDER\"]=\"PCI_BUS_ID\"\n",
    "print(\"Cuda available: \", torch.cuda.is_available())\n",
    "print(\"Cuda devices: \", torch.cuda.device_count())\n",
    "current_device = torch.cuda.current_device()\n",
    "print(\"Current cuda device: \", current_device)\n",
    "print(\"Current cuda device name: \", torch.cuda.get_device_name(current_device))\n",
    "print(torch.cuda.get_device_properties(current_device))"
   ]
  },
  {
   "cell_type": "code",
   "execution_count": 2,
   "id": "6ad189ac",
   "metadata": {},
   "outputs": [
    {
     "name": "stdout",
     "output_type": "stream",
     "text": [
      "importing partial\n",
      "importing hugging face\n"
     ]
    },
    {
     "name": "stderr",
     "output_type": "stream",
     "text": [
      "/home/jong505/conda/miniconda3/envs/evo2/lib/python3.11/site-packages/tqdm/auto.py:21: TqdmWarning: IProgress not found. Please update jupyter and ipywidgets. See https://ipywidgets.readthedocs.io/en/stable/user_install.html\n",
      "  from .autonotebook import tqdm as notebook_tqdm\n"
     ]
    },
    {
     "name": "stdout",
     "output_type": "stream",
     "text": [
      "importing pkgutil\n",
      "importing torch\n",
      "importing typing\n",
      "importing yaml\n",
      "importing vortex1\n",
      "importing vortex2\n"
     ]
    },
    {
     "data": {
      "text/html": [
       "<pre style=\"white-space:pre;overflow-x:auto;line-height:normal;font-family:Menlo,'DejaVu Sans Mono',consolas,'Courier New',monospace\"><span style=\"color: #7fbfbf; text-decoration-color: #7fbfbf\">[05/31/25 08:32:51] </span><span style=\"color: #808000; text-decoration-color: #808000\">WARNING </span> root - WARNING - Supported flash-attn versions are &gt;= <span style=\"color: #008080; text-decoration-color: #008080; font-weight: bold\">2.1</span>.<span style=\"color: #008080; text-decoration-color: #008080; font-weight: bold\">1</span>, &lt;=       <a href=\"file:///home/jong505/conda/miniconda3/envs/evo2/lib/python3.11/site-packages/transformer_engine/pytorch/attention.py\" target=\"_blank\"><span style=\"color: #7f7f7f; text-decoration-color: #7f7f7f\">attention.py</span></a><span style=\"color: #7f7f7f; text-decoration-color: #7f7f7f\">:</span><a href=\"file:///home/jong505/conda/miniconda3/envs/evo2/lib/python3.11/site-packages/transformer_engine/pytorch/attention.py#164\" target=\"_blank\"><span style=\"color: #7f7f7f; text-decoration-color: #7f7f7f\">164</span></a>\n",
       "<span style=\"color: #7fbfbf; text-decoration-color: #7fbfbf\">                    </span>         <span style=\"color: #008080; text-decoration-color: #008080; font-weight: bold\">2.6</span>.<span style=\"color: #008080; text-decoration-color: #008080; font-weight: bold\">3</span>. Found flash-attn <span style=\"color: #008080; text-decoration-color: #008080; font-weight: bold\">2.7</span>.<span style=\"color: #008080; text-decoration-color: #008080; font-weight: bold\">4.</span>post1.                                  <span style=\"color: #7f7f7f; text-decoration-color: #7f7f7f\">                </span>\n",
       "</pre>\n"
      ],
      "text/plain": [
       "\u001b[2;36m[05/31/25 08:32:51]\u001b[0m\u001b[2;36m \u001b[0m\u001b[33mWARNING \u001b[0m root - WARNING - Supported flash-attn versions are >= \u001b[1;36m2.1\u001b[0m.\u001b[1;36m1\u001b[0m, <=       \u001b]8;id=510539;file:///home/jong505/conda/miniconda3/envs/evo2/lib/python3.11/site-packages/transformer_engine/pytorch/attention.py\u001b\\\u001b[2mattention.py\u001b[0m\u001b]8;;\u001b\\\u001b[2m:\u001b[0m\u001b]8;id=16223;file:///home/jong505/conda/miniconda3/envs/evo2/lib/python3.11/site-packages/transformer_engine/pytorch/attention.py#164\u001b\\\u001b[2m164\u001b[0m\u001b]8;;\u001b\\\n",
       "\u001b[2;36m                    \u001b[0m         \u001b[1;36m2.6\u001b[0m.\u001b[1;36m3\u001b[0m. Found flash-attn \u001b[1;36m2.7\u001b[0m.\u001b[1;36m4.\u001b[0mpost1.                                  \u001b[2m                \u001b[0m\n"
      ]
     },
     "metadata": {},
     "output_type": "display_data"
    },
    {
     "name": "stdout",
     "output_type": "stream",
     "text": [
      "importing vortex3\n",
      "importing vortex4\n",
      "importing evo2 scoring\n",
      "importing evo2 util\n"
     ]
    }
   ],
   "source": [
    "import pandas as pd\n",
    "from pathlib import Path\n",
    "from evo2 import Evo2"
   ]
  },
  {
   "cell_type": "code",
   "execution_count": 22,
   "id": "6c71218c",
   "metadata": {},
   "outputs": [],
   "source": [
    "def create_embeddings(df: pd.DataFrame, l_name:str = \"blocks.24.mlp.l3\", axis=0, reduction=\"avg\"):\n",
    "    evo2_model = Evo2('evo2_1b_base', local_path=\"/home/jong505/models/evo2_1b_base.pt\")\n",
    "\n",
    "    x = df[[\"seq_x\", \"segment_id_x\"]].copy()\n",
    "    x.rename(columns={\"seq_x\": \"seq\", \"segment_id_x\": \"segment_id\"}, inplace=True)\n",
    "    y = df[[\"seq_y\", \"segment_id_y\"]].copy()\n",
    "    y.rename(columns={\"seq_y\": \"seq\", \"segment_id_y\": \"segment_id\"}, inplace=True)\n",
    "    df = pd.concat([x,y])\n",
    "    df.drop_duplicates(subset=\"segment_id\", inplace=True)\n",
    "\n",
    "    results = {}\n",
    "\n",
    "    for id, seq in tqdm(zip(df.segment_id.tolist(), df.seq.tolist()), total=df.shape[0]):\n",
    "        if id in results: continue\n",
    "\n",
    "        tok_x = torch.tensor(evo2_model.tokenizer.tokenize(seq), dtype=torch.int, ).unsqueeze(0).to('cuda:0')\n",
    "        _, tens_x = evo2_model(tok_x, return_embeddings=True, layer_names=[l_name])\n",
    "        x = tens_x[l_name].cpu().float().numpy()\n",
    "        \n",
    "        if reduction == \"avg\":\n",
    "            results[id] = np.mean(x[0], axis=axis).tolist()\n",
    "        elif reduction == \"PCA\":\n",
    "            pca = PCA(n_components=1)\n",
    "            results[id] = pca.fit_transform(x[0].T).flatten().tolist()\n",
    "        elif reduction == \"div3\":\n",
    "            split = np.array_split(x[0], 3)\n",
    "            out = []\n",
    "            for i in split:\n",
    "                out += i.mean(axis=axis).tolist()\n",
    "            results[id] = out\n",
    "            \n",
    "    df = pd.DataFrame(results.items(), columns=[\"segment_id\",\"embedding\"])\n",
    "    return df"
   ]
  },
  {
   "cell_type": "code",
   "execution_count": 23,
   "id": "8864a5be",
   "metadata": {},
   "outputs": [
    {
     "name": "stdout",
     "output_type": "stream",
     "text": [
      "Index(['Unnamed: 0', 'genome_x', 'chr_x', 'len_profile_x', 'segment_id_x',\n",
      "       'genome_y', 'chr_y', 'len_profile_y', 'segment_id_y', 'seq_x', 'seq_y',\n",
      "       'multiplicon_id', 'similar'],\n",
      "      dtype='object')\n",
      "Loading model from /home/jong505/models/evo2_1b_base.pt...\n",
      "Loading config from /home/jong505/conda/miniconda3/envs/evo2/lib/python3.11/site-packages/evo2/configs/evo2-1b-8k.yml...\n"
     ]
    },
    {
     "name": "stderr",
     "output_type": "stream",
     "text": [
      "100%|██████████| 25/25 [00:00<00:00, 543.10it/s]\n"
     ]
    },
    {
     "name": "stdout",
     "output_type": "stream",
     "text": [
      "Extra keys in state_dict: {'blocks.10.mixer.dense._extra_state', 'blocks.24.mixer.dense._extra_state', 'blocks.17.mixer.dense._extra_state', 'blocks.3.mixer.dense._extra_state', 'unembed.weight'}\n"
     ]
    },
    {
     "name": "stderr",
     "output_type": "stream",
     "text": [
      "/home/jong505/conda/miniconda3/envs/evo2/lib/python3.11/site-packages/transformer_engine/pytorch/module/base.py:630: FutureWarning: You are using `torch.load` with `weights_only=False` (the current default value), which uses the default pickle module implicitly. It is possible to construct malicious pickle data which will execute arbitrary code during unpickling (See https://github.com/pytorch/pytorch/blob/main/SECURITY.md#untrusted-models for more details). In a future release, the default value for `weights_only` will be flipped to `True`. This limits the functions that could be executed during unpickling. Arbitrary objects will no longer be allowed to be loaded via this mode unless they are explicitly allowlisted by the user via `torch.serialization.add_safe_globals`. We recommend you start setting `weights_only=True` for any use case where you don't have full control of the loaded file. Please open an issue on GitHub for any issues related to this experimental feature.\n",
      "  state = torch.load(state, map_location=\"cuda\")\n",
      "/home/jong505/thesis/evo2/vortex/vortex/model/utils.py:153: FutureWarning: You are using `torch.load` with `weights_only=False` (the current default value), which uses the default pickle module implicitly. It is possible to construct malicious pickle data which will execute arbitrary code during unpickling (See https://github.com/pytorch/pytorch/blob/main/SECURITY.md#untrusted-models for more details). In a future release, the default value for `weights_only` will be flipped to `True`. This limits the functions that could be executed during unpickling. Arbitrary objects will no longer be allowed to be loaded via this mode unless they are explicitly allowlisted by the user via `torch.serialization.add_safe_globals`. We recommend you start setting `weights_only=True` for any use case where you don't have full control of the loaded file. Please open an issue on GitHub for any issues related to this experimental feature.\n",
      "  return torch_load(state, map_location=device)\n",
      "100%|██████████| 6/6 [00:08<00:00,  1.41s/it]\n"
     ]
    }
   ],
   "source": [
    "dataframes = [\"data/aar_ath_bol_chi_cpa_tha/sm7_50000_test_seq.tsv\", \"data/aar_ath_bol_chi_cpa_tha/sm7_50000_train_seq.tsv\", \"data/aar_ath_bol_chi_cpa_tha/sm7_50000_val_seq.tsv\"]\n",
    "output = Path(\"data/aar_ath_bol_chi_cpa_tha/embeddings\")\n",
    "dataframes = [pd.read_csv(Path(df_path), sep=\"\\t\", header=0) for df_path in dataframes]\n",
    "df = pd.concat(dataframes)\n",
    "print(df.columns)\n",
    "df = df.sample(n=3, random_state=42)\n",
    "ems = create_embeddings(df, reduction=\"div3\")"
   ]
  },
  {
   "cell_type": "code",
   "execution_count": 26,
   "id": "31e56f53",
   "metadata": {},
   "outputs": [
    {
     "data": {
      "text/html": [
       "<div>\n",
       "<style scoped>\n",
       "    .dataframe tbody tr th:only-of-type {\n",
       "        vertical-align: middle;\n",
       "    }\n",
       "\n",
       "    .dataframe tbody tr th {\n",
       "        vertical-align: top;\n",
       "    }\n",
       "\n",
       "    .dataframe thead th {\n",
       "        text-align: right;\n",
       "    }\n",
       "</style>\n",
       "<table border=\"1\" class=\"dataframe\">\n",
       "  <thead>\n",
       "    <tr style=\"text-align: right;\">\n",
       "      <th></th>\n",
       "      <th>segment_id</th>\n",
       "      <th>embedding</th>\n",
       "      <th>len</th>\n",
       "    </tr>\n",
       "  </thead>\n",
       "  <tbody>\n",
       "    <tr>\n",
       "      <th>0</th>\n",
       "      <td>28631</td>\n",
       "      <td>[2.0824657553930592e-08, 1.0475597491677036e-0...</td>\n",
       "      <td>5760</td>\n",
       "    </tr>\n",
       "    <tr>\n",
       "      <th>1</th>\n",
       "      <td>27039</td>\n",
       "      <td>[2.0236601727674497e-08, 1.028544147629873e-06...</td>\n",
       "      <td>5760</td>\n",
       "    </tr>\n",
       "    <tr>\n",
       "      <th>2</th>\n",
       "      <td>18577</td>\n",
       "      <td>[1.9474136081498727e-08, 9.803535476748948e-07...</td>\n",
       "      <td>5760</td>\n",
       "    </tr>\n",
       "    <tr>\n",
       "      <th>3</th>\n",
       "      <td>28632</td>\n",
       "      <td>[1.9990530120139738e-08, 1.0074290912598372e-0...</td>\n",
       "      <td>5760</td>\n",
       "    </tr>\n",
       "    <tr>\n",
       "      <th>4</th>\n",
       "      <td>26356</td>\n",
       "      <td>[1.6620779419440623e-08, 8.777113293945149e-07...</td>\n",
       "      <td>5760</td>\n",
       "    </tr>\n",
       "  </tbody>\n",
       "</table>\n",
       "</div>"
      ],
      "text/plain": [
       "   segment_id                                          embedding   len\n",
       "0       28631  [2.0824657553930592e-08, 1.0475597491677036e-0...  5760\n",
       "1       27039  [2.0236601727674497e-08, 1.028544147629873e-06...  5760\n",
       "2       18577  [1.9474136081498727e-08, 9.803535476748948e-07...  5760\n",
       "3       28632  [1.9990530120139738e-08, 1.0074290912598372e-0...  5760\n",
       "4       26356  [1.6620779419440623e-08, 8.777113293945149e-07...  5760"
      ]
     },
     "execution_count": 26,
     "metadata": {},
     "output_type": "execute_result"
    }
   ],
   "source": [
    "ems[\"len\"] = ems.embedding.apply(len)\n",
    "ems.head()"
   ]
  },
  {
   "cell_type": "code",
   "execution_count": 24,
   "id": "6842413c",
   "metadata": {},
   "outputs": [
    {
     "name": "stdout",
     "output_type": "stream",
     "text": [
      "time:  0.00014662742614746094\n",
      "(1, 34380, 1920)\n",
      "(1920, 1)\n",
      "time:  7.200241088867188e-05\n",
      "(1, 5137, 1920)\n",
      "(1920, 1)\n",
      "[[ 1.1243758e-06]\n",
      " [ 7.3430725e-05]\n",
      " [ 2.9602891e-06]\n",
      " ...\n",
      " [ 3.0072144e-06]\n",
      " [-1.3268522e-06]\n",
      " [-5.9386343e-06]]\n"
     ]
    }
   ],
   "source": [
    "df = df_in.iloc[:2]\n",
    "counter = 0\n",
    "em_x = []\n",
    "em_y = []\n",
    "l_name = \"blocks.24.mlp.l3\"\n",
    "\n",
    "for seq_x, seq_y in zip(df.seq_x, df.seq_y):\n",
    "\n",
    "    tok_x = torch.tensor(evo2_model.tokenizer.tokenize(seq_x), dtype=torch.int, ).unsqueeze(0).to('cuda:0')\n",
    "    _, tens_x = evo2_model(tok_x, return_embeddings=True, layer_names=[l_name])\n",
    "    x = tens_x[l_name].cpu().float().numpy()\n",
    "\n",
    "    tok_y = torch.tensor(evo2_model.tokenizer.tokenize(seq_y), dtype=torch.int, ).unsqueeze(0).to('cuda:0')\n",
    "    _, tens_y = evo2_model(tok_y, return_embeddings=True, layer_names=[l_name])\n",
    "    y = tens_y[l_name].cpu().float().numpy()\n",
    "\n",
    "    s = time.time()\n",
    "    pca = PCA(n_components=1)\n",
    "    print(\"time: \", time.time()- s)\n",
    "    print(x.shape)\n",
    "    small = pca.fit_transform(x[0].T)\n",
    "    print(small.flatten())\n",
    "\n",
    "print(small)\n",
    "\n",
    "# df_embeddings = df.drop([\"seq_x\", \"seq_y\"], axis=1)\n",
    "# df_embeddings[\"em_x\"] = em_x\n",
    "# df_embeddings[\"em_y\"] = em_y\n",
    "# df_embeddings.to_csv(\"testing_embeddings.tsv\", sep='\\t', index=False)"
   ]
  },
  {
   "cell_type": "code",
   "execution_count": 28,
   "id": "83440960",
   "metadata": {},
   "outputs": [
    {
     "name": "stdout",
     "output_type": "stream",
     "text": [
      "[ 1.1243758e-06  7.3430725e-05  2.9602891e-06  3.6436827e-06\n",
      "  5.1114598e-06 -4.0481518e-06  5.4306977e-09 -6.9068547e-06\n",
      " -4.7741059e-06 -2.1640153e-06]\n"
     ]
    }
   ],
   "source": [
    "print(small.flatten()[:10])"
   ]
  },
  {
   "cell_type": "code",
   "execution_count": 35,
   "id": "0500c95f",
   "metadata": {},
   "outputs": [
    {
     "data": {
      "text/plain": [
       "float"
      ]
     },
     "execution_count": 35,
     "metadata": {},
     "output_type": "execute_result"
    }
   ],
   "source": [
    "df_embeddings = pd.read_csv(\"testing_embeddings.tsv\", sep='\\t')\n",
    "df_embeddings.em_x = df_embeddings.em_x.apply(eval)\n",
    "df_embeddings.em_x[0][0]"
   ]
  },
  {
   "cell_type": "code",
   "execution_count": 5,
   "id": "11a4a252",
   "metadata": {},
   "outputs": [],
   "source": [
    "train_test_path = Path(\"iadh_out/ath_bol_aar/train_test1.tsv\")\n",
    "df = pd.read_csv(train_test_path, sep=\"\\t\", header=0, index_col=0)"
   ]
  },
  {
   "cell_type": "code",
   "execution_count": 6,
   "id": "551fdf3e",
   "metadata": {},
   "outputs": [],
   "source": [
    "seq_sx = df.iloc[0][\"seq_x\"]\n",
    "seq_sy = df.iloc[0][\"seq_y\"]\n",
    "seq_dx = df[df[\"Similar\"]==True].iloc[0][\"seq_x\"]\n",
    "seq_dy = df[df[\"Similar\"]==True].iloc[0][\"seq_y\"]"
   ]
  },
  {
   "cell_type": "code",
   "execution_count": 3,
   "id": "1be71f98",
   "metadata": {},
   "outputs": [
    {
     "name": "stderr",
     "output_type": "stream",
     "text": [
      "Fetching 4 files: 100%|██████████| 4/4 [00:00<00:00, 2906.66it/s]\n"
     ]
    },
    {
     "name": "stdout",
     "output_type": "stream",
     "text": [
      "Found complete file in repo: evo2_1b_base.pt\n"
     ]
    },
    {
     "name": "stderr",
     "output_type": "stream",
     "text": [
      "100%|██████████| 25/25 [00:01<00:00, 12.52it/s]\n"
     ]
    },
    {
     "name": "stdout",
     "output_type": "stream",
     "text": [
      "Extra keys in state_dict: {'unembed.weight', 'blocks.3.mixer.dense._extra_state', 'blocks.17.mixer.dense._extra_state', 'blocks.24.mixer.dense._extra_state', 'blocks.10.mixer.dense._extra_state'}\n"
     ]
    },
    {
     "name": "stderr",
     "output_type": "stream",
     "text": [
      "/home/jong505/conda/miniconda3/envs/evo2/lib/python3.11/site-packages/transformer_engine/pytorch/module/base.py:630: FutureWarning: You are using `torch.load` with `weights_only=False` (the current default value), which uses the default pickle module implicitly. It is possible to construct malicious pickle data which will execute arbitrary code during unpickling (See https://github.com/pytorch/pytorch/blob/main/SECURITY.md#untrusted-models for more details). In a future release, the default value for `weights_only` will be flipped to `True`. This limits the functions that could be executed during unpickling. Arbitrary objects will no longer be allowed to be loaded via this mode unless they are explicitly allowlisted by the user via `torch.serialization.add_safe_globals`. We recommend you start setting `weights_only=True` for any use case where you don't have full control of the loaded file. Please open an issue on GitHub for any issues related to this experimental feature.\n",
      "  state = torch.load(state, map_location=\"cuda\")\n"
     ]
    },
    {
     "name": "stdout",
     "output_type": "stream",
     "text": [
      "StripedHyena(\n",
      "  (embedding_layer): VocabParallelEmbedding(512, 1920)\n",
      "  (blocks): ModuleList(\n",
      "    (0): ParallelGatedConvBlock(\n",
      "      (pre_norm): RMSNorm()\n",
      "      (post_norm): RMSNorm()\n",
      "      (filter): HyenaCascade()\n",
      "      (projections): TELinear()\n",
      "      (out_filter_dense): Linear(in_features=1920, out_features=1920, bias=True)\n",
      "      (mlp): ParallelGatedMLP(\n",
      "        (l1): Linear(in_features=1920, out_features=5120, bias=False)\n",
      "        (l2): Linear(in_features=1920, out_features=5120, bias=False)\n",
      "        (l3): Linear(in_features=5120, out_features=1920, bias=False)\n",
      "      )\n",
      "    )\n",
      "    (1-2): 2 x ParallelGatedConvBlock(\n",
      "      (pre_norm): RMSNorm()\n",
      "      (post_norm): RMSNorm()\n",
      "      (filter): HyenaCascade()\n",
      "      (projections): TELinear()\n",
      "      (out_filter_dense): Linear(in_features=1920, out_features=1920, bias=True)\n",
      "      (mlp): ParallelGatedMLP(\n",
      "        (act): Identity()\n",
      "        (l1): Linear(in_features=1920, out_features=5120, bias=False)\n",
      "        (l2): Linear(in_features=1920, out_features=5120, bias=False)\n",
      "        (l3): Linear(in_features=5120, out_features=1920, bias=False)\n",
      "      )\n",
      "    )\n",
      "    (3): AttentionBlock(\n",
      "      (pre_norm): RMSNorm()\n",
      "      (post_norm): RMSNorm()\n",
      "      (inner_mha_cls): MHA(\n",
      "        (rotary_emb): RotaryEmbedding()\n",
      "        (Wqkv): Linear(in_features=1920, out_features=5760, bias=False)\n",
      "        (inner_attn): FlashSelfAttention(\n",
      "          (drop): Dropout(p=0.0, inplace=False)\n",
      "        )\n",
      "        (inner_cross_attn): FlashCrossAttention(\n",
      "          (drop): Dropout(p=0.0, inplace=False)\n",
      "        )\n",
      "        (out_proj): Linear(in_features=1920, out_features=1920, bias=True)\n",
      "      )\n",
      "      (mlp): ParallelGatedMLP(\n",
      "        (act): Identity()\n",
      "        (l1): Linear(in_features=1920, out_features=5120, bias=False)\n",
      "        (l2): Linear(in_features=1920, out_features=5120, bias=False)\n",
      "        (l3): Linear(in_features=5120, out_features=1920, bias=False)\n",
      "      )\n",
      "    )\n",
      "    (4-9): 6 x ParallelGatedConvBlock(\n",
      "      (pre_norm): RMSNorm()\n",
      "      (post_norm): RMSNorm()\n",
      "      (filter): HyenaCascade()\n",
      "      (projections): TELinear()\n",
      "      (out_filter_dense): Linear(in_features=1920, out_features=1920, bias=True)\n",
      "      (mlp): ParallelGatedMLP(\n",
      "        (act): Identity()\n",
      "        (l1): Linear(in_features=1920, out_features=5120, bias=False)\n",
      "        (l2): Linear(in_features=1920, out_features=5120, bias=False)\n",
      "        (l3): Linear(in_features=5120, out_features=1920, bias=False)\n",
      "      )\n",
      "    )\n",
      "    (10): AttentionBlock(\n",
      "      (pre_norm): RMSNorm()\n",
      "      (post_norm): RMSNorm()\n",
      "      (inner_mha_cls): MHA(\n",
      "        (rotary_emb): RotaryEmbedding()\n",
      "        (Wqkv): Linear(in_features=1920, out_features=5760, bias=False)\n",
      "        (inner_attn): FlashSelfAttention(\n",
      "          (drop): Dropout(p=0.0, inplace=False)\n",
      "        )\n",
      "        (inner_cross_attn): FlashCrossAttention(\n",
      "          (drop): Dropout(p=0.0, inplace=False)\n",
      "        )\n",
      "        (out_proj): Linear(in_features=1920, out_features=1920, bias=True)\n",
      "      )\n",
      "      (mlp): ParallelGatedMLP(\n",
      "        (act): Identity()\n",
      "        (l1): Linear(in_features=1920, out_features=5120, bias=False)\n",
      "        (l2): Linear(in_features=1920, out_features=5120, bias=False)\n",
      "        (l3): Linear(in_features=5120, out_features=1920, bias=False)\n",
      "      )\n",
      "    )\n",
      "    (11-16): 6 x ParallelGatedConvBlock(\n",
      "      (pre_norm): RMSNorm()\n",
      "      (post_norm): RMSNorm()\n",
      "      (filter): HyenaCascade()\n",
      "      (projections): TELinear()\n",
      "      (out_filter_dense): Linear(in_features=1920, out_features=1920, bias=True)\n",
      "      (mlp): ParallelGatedMLP(\n",
      "        (act): Identity()\n",
      "        (l1): Linear(in_features=1920, out_features=5120, bias=False)\n",
      "        (l2): Linear(in_features=1920, out_features=5120, bias=False)\n",
      "        (l3): Linear(in_features=5120, out_features=1920, bias=False)\n",
      "      )\n",
      "    )\n",
      "    (17): AttentionBlock(\n",
      "      (pre_norm): RMSNorm()\n",
      "      (post_norm): RMSNorm()\n",
      "      (inner_mha_cls): MHA(\n",
      "        (rotary_emb): RotaryEmbedding()\n",
      "        (Wqkv): Linear(in_features=1920, out_features=5760, bias=False)\n",
      "        (inner_attn): FlashSelfAttention(\n",
      "          (drop): Dropout(p=0.0, inplace=False)\n",
      "        )\n",
      "        (inner_cross_attn): FlashCrossAttention(\n",
      "          (drop): Dropout(p=0.0, inplace=False)\n",
      "        )\n",
      "        (out_proj): Linear(in_features=1920, out_features=1920, bias=True)\n",
      "      )\n",
      "      (mlp): ParallelGatedMLP(\n",
      "        (act): Identity()\n",
      "        (l1): Linear(in_features=1920, out_features=5120, bias=False)\n",
      "        (l2): Linear(in_features=1920, out_features=5120, bias=False)\n",
      "        (l3): Linear(in_features=5120, out_features=1920, bias=False)\n",
      "      )\n",
      "    )\n",
      "    (18-23): 6 x ParallelGatedConvBlock(\n",
      "      (pre_norm): RMSNorm()\n",
      "      (post_norm): RMSNorm()\n",
      "      (filter): HyenaCascade()\n",
      "      (projections): TELinear()\n",
      "      (out_filter_dense): Linear(in_features=1920, out_features=1920, bias=True)\n",
      "      (mlp): ParallelGatedMLP(\n",
      "        (act): Identity()\n",
      "        (l1): Linear(in_features=1920, out_features=5120, bias=False)\n",
      "        (l2): Linear(in_features=1920, out_features=5120, bias=False)\n",
      "        (l3): Linear(in_features=5120, out_features=1920, bias=False)\n",
      "      )\n",
      "    )\n",
      "    (24): AttentionBlock(\n",
      "      (pre_norm): RMSNorm()\n",
      "      (post_norm): RMSNorm()\n",
      "      (inner_mha_cls): MHA(\n",
      "        (rotary_emb): RotaryEmbedding()\n",
      "        (Wqkv): Linear(in_features=1920, out_features=5760, bias=False)\n",
      "        (inner_attn): FlashSelfAttention(\n",
      "          (drop): Dropout(p=0.0, inplace=False)\n",
      "        )\n",
      "        (inner_cross_attn): FlashCrossAttention(\n",
      "          (drop): Dropout(p=0.0, inplace=False)\n",
      "        )\n",
      "        (out_proj): Linear(in_features=1920, out_features=1920, bias=True)\n",
      "      )\n",
      "      (mlp): ParallelGatedMLP(\n",
      "        (act): Identity()\n",
      "        (l1): Linear(in_features=1920, out_features=5120, bias=False)\n",
      "        (l2): Linear(in_features=1920, out_features=5120, bias=False)\n",
      "        (l3): Linear(in_features=5120, out_features=1920, bias=False)\n",
      "      )\n",
      "    )\n",
      "  )\n",
      "  (norm): RMSNorm()\n",
      "  (unembed): Lambda()\n",
      ")\n"
     ]
    },
    {
     "name": "stderr",
     "output_type": "stream",
     "text": [
      "/home/jong505/thesis/evo2/vortex/vortex/model/utils.py:153: FutureWarning: You are using `torch.load` with `weights_only=False` (the current default value), which uses the default pickle module implicitly. It is possible to construct malicious pickle data which will execute arbitrary code during unpickling (See https://github.com/pytorch/pytorch/blob/main/SECURITY.md#untrusted-models for more details). In a future release, the default value for `weights_only` will be flipped to `True`. This limits the functions that could be executed during unpickling. Arbitrary objects will no longer be allowed to be loaded via this mode unless they are explicitly allowlisted by the user via `torch.serialization.add_safe_globals`. We recommend you start setting `weights_only=True` for any use case where you don't have full control of the loaded file. Please open an issue on GitHub for any issues related to this experimental feature.\n",
      "  return torch_load(state, map_location=device)\n"
     ]
    }
   ],
   "source": [
    "evo2_model = Evo2('evo2_1b_base')\n",
    "print(evo2_model.model)"
   ]
  },
  {
   "cell_type": "code",
   "execution_count": 14,
   "id": "d9f0f2f7",
   "metadata": {},
   "outputs": [
    {
     "ename": "NotImplementedError",
     "evalue": "",
     "output_type": "error",
     "traceback": [
      "\u001b[31m---------------------------------------------------------------------------\u001b[39m",
      "\u001b[31mNotImplementedError\u001b[39m                       Traceback (most recent call last)",
      "\u001b[36mCell\u001b[39m\u001b[36m \u001b[39m\u001b[32mIn[14]\u001b[39m\u001b[32m, line 1\u001b[39m\n\u001b[32m----> \u001b[39m\u001b[32m1\u001b[39m \u001b[43mevo2_model\u001b[49m\u001b[43m.\u001b[49m\u001b[43mtokenizer\u001b[49m\u001b[43m.\u001b[49m\u001b[43mvocab\u001b[49m()\n",
      "\u001b[36mFile \u001b[39m\u001b[32m~/thesis/evo2/vortex/vortex/model/tokenizer.py:151\u001b[39m, in \u001b[36mCharLevelTokenizer.vocab\u001b[39m\u001b[34m(self)\u001b[39m\n\u001b[32m    149\u001b[39m \u001b[38;5;129m@property\u001b[39m\n\u001b[32m    150\u001b[39m \u001b[38;5;28;01mdef\u001b[39;00m\u001b[38;5;250m \u001b[39m\u001b[34mvocab\u001b[39m(\u001b[38;5;28mself\u001b[39m):\n\u001b[32m--> \u001b[39m\u001b[32m151\u001b[39m     \u001b[38;5;28;01mraise\u001b[39;00m \u001b[38;5;167;01mNotImplementedError\u001b[39;00m\n",
      "\u001b[31mNotImplementedError\u001b[39m: "
     ]
    }
   ],
   "source": [
    "evo2_model.tokenizer.vocab()"
   ]
  },
  {
   "cell_type": "code",
   "execution_count": null,
   "id": "528d2648",
   "metadata": {},
   "outputs": [
    {
     "name": "stdout",
     "output_type": "stream",
     "text": [
      "Embeddings shape:  torch.Size([1, 26728, 1920])\n",
      "{'blocks.24.mlp.l3': tensor([[[ 2.5611e-08,  1.3039e-06,  5.9372e-08,  ...,  5.9139e-08,\n",
      "          -1.6997e-08, -9.9186e-08],\n",
      "         [ 2.5844e-08,  1.3262e-06,  5.9605e-08,  ...,  5.8208e-08,\n",
      "          -1.5949e-08, -1.0058e-07],\n",
      "         [ 2.5844e-08,  1.3337e-06,  5.9372e-08,  ...,  5.8440e-08,\n",
      "          -1.5832e-08, -1.0105e-07],\n",
      "         ...,\n",
      "         [ 2.2701e-08,  1.2517e-06,  5.5181e-08,  ...,  5.3085e-08,\n",
      "          -1.4028e-08, -9.3598e-08],\n",
      "         [ 2.4680e-08,  1.3039e-06,  5.8673e-08,  ...,  5.5414e-08,\n",
      "          -1.5018e-08, -9.8255e-08],\n",
      "         [ 2.5611e-08,  1.2517e-06,  5.6578e-08,  ...,  5.3318e-08,\n",
      "          -1.3621e-08, -9.3132e-08]]], device='cuda:0', dtype=torch.bfloat16)}\n"
     ]
    }
   ],
   "source": [
    "# evo2_model = Evo2('evo2_1b_base')\n",
    "\n",
    "input_ids = torch.tensor(\n",
    "    evo2_model.tokenizer.tokenize_batch(seq_sx),\n",
    "    dtype=torch.int,\n",
    ").unsqueeze(0).to('cuda:0')\n",
    "\n",
    "layer_name = 'blocks.24.mlp.l3'\n",
    "\n",
    "outputs, embeddings = evo2_model(input_ids, return_embeddings=True, layer_names=[layer_name])\n",
    "\n",
    "print('Embeddings shape: ', embeddings[layer_name].shape)"
   ]
  },
  {
   "cell_type": "code",
   "execution_count": 14,
   "id": "bbfae02e",
   "metadata": {},
   "outputs": [],
   "source": [
    "from tqdm import tqdm"
   ]
  },
  {
   "cell_type": "code",
   "execution_count": null,
   "id": "270dae84",
   "metadata": {},
   "outputs": [
    {
     "name": "stderr",
     "output_type": "stream",
     "text": [
      "  0%|          | 0/1420 [00:00<?, ?it/s]"
     ]
    },
    {
     "name": "stderr",
     "output_type": "stream",
     "text": [
      "  1%|          | 16/1420 [01:25<2:05:39,  5.37s/it]\n"
     ]
    },
    {
     "ename": "KeyboardInterrupt",
     "evalue": "",
     "output_type": "error",
     "traceback": [
      "\u001b[31m---------------------------------------------------------------------------\u001b[39m",
      "\u001b[31mKeyboardInterrupt\u001b[39m                         Traceback (most recent call last)",
      "\u001b[36mCell\u001b[39m\u001b[36m \u001b[39m\u001b[32mIn[17]\u001b[39m\u001b[32m, line 21\u001b[39m\n\u001b[32m     17\u001b[39m tok_y = torch.tensor( evo2_model.tokenizer.tokenize(seq_y), dtype=torch.int, ).unsqueeze(\u001b[32m0\u001b[39m).to(\u001b[33m'\u001b[39m\u001b[33mcuda:0\u001b[39m\u001b[33m'\u001b[39m)\n\u001b[32m     20\u001b[39m _,tens_x = evo2_model(tok_x, return_embeddings=\u001b[38;5;28;01mTrue\u001b[39;00m, layer_names=[layer_name])\n\u001b[32m---> \u001b[39m\u001b[32m21\u001b[39m x = \u001b[43mtens_x\u001b[49m\u001b[43m[\u001b[49m\u001b[43mlayer_name\u001b[49m\u001b[43m]\u001b[49m\u001b[43m.\u001b[49m\u001b[43mcpu\u001b[49m\u001b[43m(\u001b[49m\u001b[43m)\u001b[49m.float().numpy().flatten()\n\u001b[32m     22\u001b[39m \u001b[38;5;66;03m# print(x.shape)\u001b[39;00m\n\u001b[32m     24\u001b[39m _,tens_y = evo2_model(tok_y, return_embeddings=\u001b[38;5;28;01mTrue\u001b[39;00m, layer_names=[layer_name])\n",
      "\u001b[31mKeyboardInterrupt\u001b[39m: "
     ]
    }
   ],
   "source": [
    "tokens = evo2_model.tokenizer.tokenize_batch(seqs)\n",
    "counter = 0\n",
    "layer_name = 'blocks.24.mlp.l3'\n",
    "sim = []\n",
    "\n",
    "\n",
    "for i, r in tqdm(df.iterrows(), total=df.shape[0]):\n",
    "    seq_x = r[\"seq_x\"]\n",
    "    seq_y =  r[\"seq_y\"]\n",
    "    if len(seq_x) > len(seq_y):\n",
    "        seq_y = seq_y+(\"0\"* (len(seq_x)-len(seq_y)))\n",
    "    elif len(seq_y) > len(seq_x):\n",
    "        seq_x = seq_x+(\"0\"* (len(seq_y)-len(seq_x)))\n",
    "    \n",
    "    tok_x = torch.tensor( evo2_model.tokenizer.tokenize(seq_x), dtype=torch.int, ).unsqueeze(0).to('cuda:0')\n",
    "    tok_y = torch.tensor( evo2_model.tokenizer.tokenize(seq_y), dtype=torch.int, ).unsqueeze(0).to('cuda:0')\n",
    "\n",
    "    \n",
    "    _,tens_x = evo2_model(tok_x, return_embeddings=True, layer_names=[layer_name])\n",
    "    x = tens_x[layer_name].cpu().float().numpy().flatten()\n",
    "    # print(x.shape)\n",
    "\n",
    "    _,tens_y = evo2_model(tok_y, return_embeddings=True, layer_names=[layer_name])\n",
    "    y = tens_y[layer_name].cpu().float().numpy().flatten()\n",
    "    # print(y.shape)\n",
    "\n",
    "    sim.append(np.dot(x,y)/(np.linalg.norm(x)*np.linalg.norm(y)))\n",
    "df[\"cosine_sim\"] = sim"
   ]
  },
  {
   "cell_type": "code",
   "execution_count": 66,
   "id": "00fc7521",
   "metadata": {},
   "outputs": [
    {
     "data": {
      "text/plain": [
       "Similar\n",
       "False    56\n",
       "True     44\n",
       "Name: count, dtype: int64"
      ]
     },
     "execution_count": 66,
     "metadata": {},
     "output_type": "execute_result"
    }
   ],
   "source": [
    "small_df = df.sample(n=100)\n",
    "small_df.value_counts(\"Similar\")"
   ]
  },
  {
   "cell_type": "code",
   "execution_count": null,
   "id": "4d61ae9b",
   "metadata": {},
   "outputs": [
    {
     "name": "stdout",
     "output_type": "stream",
     "text": [
      "sim is True\n"
     ]
    },
    {
     "name": "stderr",
     "output_type": "stream",
     "text": [
      "  0%|          | 0/100 [00:00<?, ?it/s]"
     ]
    },
    {
     "name": "stdout",
     "output_type": "stream",
     "text": [
      "7487684608\n"
     ]
    },
    {
     "name": "stderr",
     "output_type": "stream",
     "text": [
      "  1%|          | 1/100 [00:03<04:56,  3.00s/it]"
     ]
    },
    {
     "name": "stdout",
     "output_type": "stream",
     "text": [
      "7629438976\n"
     ]
    },
    {
     "name": "stderr",
     "output_type": "stream",
     "text": [
      "  2%|▏         | 2/100 [00:08<07:07,  4.37s/it]"
     ]
    },
    {
     "name": "stdout",
     "output_type": "stream",
     "text": [
      "7742160896\n"
     ]
    },
    {
     "name": "stderr",
     "output_type": "stream",
     "text": [
      "  3%|▎         | 3/100 [00:18<11:31,  7.13s/it]"
     ]
    },
    {
     "name": "stdout",
     "output_type": "stream",
     "text": [
      "8024600576\n"
     ]
    },
    {
     "name": "stderr",
     "output_type": "stream",
     "text": [
      "  4%|▍         | 4/100 [00:19<07:20,  4.59s/it]"
     ]
    },
    {
     "name": "stdout",
     "output_type": "stream",
     "text": [
      "7529109504\n"
     ]
    },
    {
     "name": "stderr",
     "output_type": "stream",
     "text": [
      "  5%|▌         | 5/100 [00:24<07:31,  4.76s/it]"
     ]
    },
    {
     "name": "stdout",
     "output_type": "stream",
     "text": [
      "7757251584\n"
     ]
    },
    {
     "name": "stderr",
     "output_type": "stream",
     "text": [
      "  6%|▌         | 6/100 [00:25<05:16,  3.37s/it]"
     ]
    },
    {
     "name": "stdout",
     "output_type": "stream",
     "text": [
      "7531267584\n"
     ]
    },
    {
     "name": "stderr",
     "output_type": "stream",
     "text": [
      "  7%|▋         | 7/100 [00:30<06:02,  3.90s/it]"
     ]
    },
    {
     "name": "stdout",
     "output_type": "stream",
     "text": [
      "7754908672\n"
     ]
    },
    {
     "name": "stderr",
     "output_type": "stream",
     "text": [
      "  8%|▊         | 8/100 [00:33<05:45,  3.76s/it]"
     ]
    },
    {
     "name": "stdout",
     "output_type": "stream",
     "text": [
      "7672047616\n"
     ]
    },
    {
     "name": "stderr",
     "output_type": "stream",
     "text": [
      "  9%|▉         | 9/100 [00:41<07:33,  4.98s/it]"
     ]
    },
    {
     "name": "stdout",
     "output_type": "stream",
     "text": [
      "7896335872\n"
     ]
    },
    {
     "name": "stderr",
     "output_type": "stream",
     "text": [
      " 10%|█         | 10/100 [00:43<06:24,  4.27s/it]"
     ]
    },
    {
     "name": "stdout",
     "output_type": "stream",
     "text": [
      "7669262848\n"
     ]
    },
    {
     "name": "stderr",
     "output_type": "stream",
     "text": [
      " 10%|█         | 10/100 [00:50<07:33,  5.04s/it]\n"
     ]
    },
    {
     "ename": "KeyboardInterrupt",
     "evalue": "",
     "output_type": "error",
     "traceback": [
      "\u001b[31m---------------------------------------------------------------------------\u001b[39m",
      "\u001b[31mKeyboardInterrupt\u001b[39m                         Traceback (most recent call last)",
      "\u001b[36mCell\u001b[39m\u001b[36m \u001b[39m\u001b[32mIn[68]\u001b[39m\u001b[32m, line 31\u001b[39m\n\u001b[32m     28\u001b[39m     y = row[\u001b[33m'\u001b[39m\u001b[33mseq_y\u001b[39m\u001b[33m'\u001b[39m] + pad_char*(max_len - \u001b[38;5;28mlen\u001b[39m(row[\u001b[33m'\u001b[39m\u001b[33mseq_y\u001b[39m\u001b[33m'\u001b[39m]))\n\u001b[32m     29\u001b[39m     \u001b[38;5;28;01mreturn\u001b[39;00m pd.Series([x, y])\n\u001b[32m---> \u001b[39m\u001b[32m31\u001b[39m small_df_sim = \u001b[43mmain\u001b[49m\u001b[43m(\u001b[49m\u001b[43msmall_df\u001b[49m\u001b[43m)\u001b[49m\n",
      "\u001b[36mCell\u001b[39m\u001b[36m \u001b[39m\u001b[32mIn[68]\u001b[39m\u001b[32m, line 15\u001b[39m, in \u001b[36mmain\u001b[39m\u001b[34m(df)\u001b[39m\n\u001b[32m     12\u001b[39m tok_y = torch.tensor( evo2_model.tokenizer.tokenize(seq_y), dtype=torch.int, ).unsqueeze(\u001b[32m0\u001b[39m).to(\u001b[33m'\u001b[39m\u001b[33mcuda:0\u001b[39m\u001b[33m'\u001b[39m)\n\u001b[32m     14\u001b[39m _, tens_x = evo2_model(tok_x, return_embeddings=\u001b[38;5;28;01mTrue\u001b[39;00m, layer_names=[layer_name])\n\u001b[32m---> \u001b[39m\u001b[32m15\u001b[39m x = \u001b[43mtens_x\u001b[49m\u001b[43m[\u001b[49m\u001b[43mlayer_name\u001b[49m\u001b[43m]\u001b[49m\u001b[43m.\u001b[49m\u001b[43mcpu\u001b[49m\u001b[43m(\u001b[49m\u001b[43m)\u001b[49m.float().numpy().flatten()\n\u001b[32m     17\u001b[39m _,tens_y = evo2_model(tok_y, return_embeddings=\u001b[38;5;28;01mTrue\u001b[39;00m, layer_names=[layer_name])\n\u001b[32m     18\u001b[39m y = tens_y[layer_name].cpu().float().numpy().flatten()\n",
      "\u001b[31mKeyboardInterrupt\u001b[39m: "
     ]
    }
   ],
   "source": [
    "def main(df: pd.DataFrame):\n",
    "    df[[\"seq_x\", \"seq_y\"]] = df.apply(add_padding, axis=1)\n",
    "    print(f\"sim is {len(df.iloc[0]['seq_x']) == len(df.iloc[0]['seq_y'])}\")\n",
    "    sim = []\n",
    "\n",
    "    for _, r in tqdm(df.iterrows(), total=df.shape[0]):\n",
    "        print(torch.cuda.memory_allocated(0))\n",
    "        print(len(seq_x))\n",
    "        seq_x = r[\"seq_x\"]\n",
    "        seq_y =  r[\"seq_y\"]\n",
    "        \n",
    "        tok_x = torch.tensor( evo2_model.tokenizer.tokenize(seq_x), dtype=torch.int, ).unsqueeze(0).to('cuda:0')\n",
    "        tok_y = torch.tensor( evo2_model.tokenizer.tokenize(seq_y), dtype=torch.int, ).unsqueeze(0).to('cuda:0')\n",
    "        \n",
    "        _, tens_x = evo2_model(tok_x, return_embeddings=True, layer_names=[layer_name])\n",
    "        x = tens_x[layer_name].cpu().float().numpy().ravel()\n",
    "\n",
    "        _,tens_y = evo2_model(tok_y, return_embeddings=True, layer_names=[layer_name])\n",
    "        y = tens_y[layer_name].cpu().float().numpy().ravel()\n",
    "\n",
    "        sim.append(np.dot(x,y)/(np.linalg.norm(x)*np.linalg.norm(y)))\n",
    "    df[\"cosine_sim\"] = sim\n",
    "    return df\n",
    "\n",
    "\n",
    "def add_padding(row:pd.Series, pad_char:str= \"0\"):\n",
    "    max_len = max(len(row[\"seq_x\"]), len(row[\"seq_y\"]))\n",
    "    x = row['seq_x'] + pad_char*(max_len - len(row['seq_x']))\n",
    "    y = row['seq_y'] + pad_char*(max_len - len(row['seq_y']))\n",
    "    return pd.Series([x, y])\n",
    "\n",
    "small_df_sim = main(small_df)"
   ]
  }
 ],
 "metadata": {
  "kernelspec": {
   "display_name": "evo2",
   "language": "python",
   "name": "python3"
  },
  "language_info": {
   "codemirror_mode": {
    "name": "ipython",
    "version": 3
   },
   "file_extension": ".py",
   "mimetype": "text/x-python",
   "name": "python",
   "nbconvert_exporter": "python",
   "pygments_lexer": "ipython3",
   "version": "3.11.11"
  }
 },
 "nbformat": 4,
 "nbformat_minor": 5
}
